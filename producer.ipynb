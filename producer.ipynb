{
 "cells": [
  {
   "cell_type": "code",
   "execution_count": 3,
   "metadata": {},
   "outputs": [],
   "source": [
    "import asyncio\n",
    "from datetime import datetime, timedelta, timezone\n",
    "import ccxt.async_support as ccxt\n",
    "import ccxt.pro as ccxtpro\n",
    "from loguru import logger\n",
    "import redis.asyncio as redis\n",
    "import pandas as pd\n",
    "\n",
    "redis_client = redis.Redis(host='localhost', port=6379, decode_responses=True)"
   ]
  },
  {
   "cell_type": "code",
   "execution_count": 25,
   "metadata": {},
   "outputs": [],
   "source": [
    "def transform_candles(rawdata):\n",
    "    # structure of watchOHLCV response: [[milliseconds_since_unix_epoch, Open, High, Low, Close, Volume]]\n",
    "    ohlcv_keys = [\"timestamp\", \"open\", \"high\", \"low\", \"close\", \"volume\"]\n",
    "    candles = [dict(zip(ohlcv_keys, candle)) for candle in rawdata]\n",
    "    return candles\n",
    "\n",
    "async def streamer(ex, symbol):\n",
    "    while True:\n",
    "        ohlcv = await ex.watchOHLCV(symbol, '5m')\n",
    "        candles = transform_candles(ohlcv)\n",
    "        tasks = [asyncio.create_task(redis_client.xadd(f\"ohlcv:{symbol}\", c)) for c in candles]\n",
    "        await asyncio.gather(*tasks)"
   ]
  },
  {
   "cell_type": "code",
   "execution_count": null,
   "metadata": {},
   "outputs": [],
   "source": [
    "import asyncio\n",
    "import redis.asyncio as redis\n",
    "\n",
    "redis_client = redis.Redis(host='localhost', port=6379, decode_responses=True)\n",
    "ohlcv_queue = asyncio.Queue(maxsize=1000)\n",
    "\n",
    "def transform_candles(rawdata):\n",
    "    ohlcv_keys = [\"timestamp\", \"open\", \"high\", \"low\", \"close\", \"volume\"]\n",
    "    return [dict(zip(ohlcv_keys, candle)) for candle in rawdata]\n",
    "\n",
    "async def streamer(ex, symbol):\n",
    "    while True:\n",
    "        try:\n",
    "            ohlcv = await ex.watchOHLCV(symbol, '5m')\n",
    "            candles = transform_candles(ohlcv)\n",
    "            for candle in candles:\n",
    "                await ohlcv_queue.put((symbol, candle))\n",
    "        except Exception as e:\n",
    "            print(f\"[{symbol}] Error: {e}\")\n",
    "        await asyncio.sleep(0.1)\n",
    "\n",
    "async def redis_publisher():\n",
    "    while True:\n",
    "        try:\n",
    "            items = []\n",
    "            while len(items) < 50:\n",
    "                try:\n",
    "                    items.append(await asyncio.wait_for(ohlcv_queue.get(), timeout=1))\n",
    "                except asyncio.TimeoutError:\n",
    "                    break\n",
    "            if not items: continue\n",
    "            async with redis_client.pipeline(transaction=False) as pipe:\n",
    "                for symbol, candle in items: pipe.xadd(f\"ohlcv:{symbol}\", candle)\n",
    "                await pipe.execute()\n",
    "                for _ in items: ohlcv_queue.task_done()\n",
    "        except Exception as e:\n",
    "            print(f\"[Redis Publisher] Error: {e}\")\n",
    "\n",
    "async def main(ex, symbols):\n",
    "    tasks = [asyncio.create_task(streamer(ex, symbol)) for symbol in symbols]\n",
    "    tasks.append(asyncio.create_task(redis_publisher()))\n",
    "    await asyncio.gather(*tasks)"
   ]
  },
  {
   "cell_type": "code",
   "execution_count": null,
   "metadata": {},
   "outputs": [],
   "source": [
    "ex = ccxtpro.binance({'newUpdates': True})\n",
    "await ex.load_markets()\n",
    "df = pd.DataFrame(ex.markets).T\n",
    "symbols = df.loc[(df['type']=='spot') & (df['active']) & (df['quote']=='USDT')]['symbol'].to_list()"
   ]
  },
  {
   "cell_type": "code",
   "execution_count": null,
   "metadata": {},
   "outputs": [],
   "source": [
    "tasks = [asyncio.create_task(streamer(ex, s)) for s in symbols]\n",
    "await asyncio.gather(*tasks)"
   ]
  }
 ],
 "metadata": {
  "kernelspec": {
   "display_name": "bpc_trading",
   "language": "python",
   "name": "python3"
  },
  "language_info": {
   "codemirror_mode": {
    "name": "ipython",
    "version": 3
   },
   "file_extension": ".py",
   "mimetype": "text/x-python",
   "name": "python",
   "nbconvert_exporter": "python",
   "pygments_lexer": "ipython3",
   "version": "3.10.15"
  }
 },
 "nbformat": 4,
 "nbformat_minor": 2
}
