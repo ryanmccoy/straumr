{
 "cells": [
  {
   "cell_type": "code",
   "execution_count": 19,
   "metadata": {},
   "outputs": [],
   "source": [
    "\n",
    "import redis.asyncio as redis\n",
    "from redis.exceptions import ResponseError\n",
    "from loguru import logger\n",
    "import asyncio\n",
    "import pandas as pd\n",
    "import ccxt.async_support as ccxt\n",
    "\n",
    "redis_client    = redis.Redis(host='localhost', port=6379, decode_responses=True)\n",
    "ex              = ccxt.bitfinex2()\n",
    "await ex.load_markets()\n",
    "df              = pd.DataFrame(ex.markets).T\n",
    "symbols         = df.loc[(df['type']=='spot') & (df['active']) & (df['quote']=='USDT')]['symbol'].to_list()"
   ]
  },
  {
   "cell_type": "code",
   "execution_count": 51,
   "metadata": {},
   "outputs": [],
   "source": [
    "async def create_consumer_group(symbol):\n",
    "    stream_name = f\"ohlcv:{symbol}\"\n",
    "    group_name  = f\"ohlcv_group_{symbol.replace('/', '_')}\"\n",
    "    try:\n",
    "        await redis_client.xgroup_create(stream_name, group_name, id=\"0\", mkstream=True)\n",
    "    except ResponseError as e:\n",
    "        if \"BUSYGROUP\" in str(e): return\n",
    "        raise e\n",
    "    except Exception as e:\n",
    "        logger.exception(f\"Unknown exception create_consumer_group({symbol})\")\n",
    "\n",
    "async def read_from_stream(symbol):\n",
    "    _s              = symbol.replace('/', '_')\n",
    "    stream_name     = f\"ohlcv:{symbol}\"\n",
    "    group_name      = f\"ohlcv_group_{_s}\"\n",
    "    consumer_name   = f\"consumer_{_s}\"\n",
    "    while True:\n",
    "        try:\n",
    "            messages = await redis_client.xreadgroup(group_name, consumer_name, {stream_name: \">\"}, count=1, block=5000)\n",
    "            if not messages: continue\n",
    "            *_, messages = messages[0]\n",
    "            await asyncio.gather(*[redis_client.xack(stream_name, group_name, msg_id)for msg_id, data in messages])\n",
    "        except Exception as e:\n",
    "            logger.exception(f\"[{consumer_name}] Exception in live streaming\")\n",
    "        finally:\n",
    "            await asyncio.sleep(1)\n",
    "\n",
    "async def start_consumers(symbols):\n",
    "    tasks = [asyncio.create_task(read_from_stream(symbol)) for symbol in symbols]\n",
    "    await asyncio.gather(*tasks)\n",
    "\n",
    "async def main(symbols):\n",
    "    await asyncio.gather(*(create_consumer_group(s) for s in symbols))\n",
    "    await start_consumers(symbols)"
   ]
  },
  {
   "cell_type": "code",
   "execution_count": 48,
   "metadata": {},
   "outputs": [],
   "source": [
    "ex = ccxt.binance()\n",
    "await ex.load_markets()\n",
    "df = pd.DataFrame(ex.markets).T\n",
    "symbols = df.loc[(df['type']=='spot') & (df['active']) & (df['quote']=='USDT')]['symbol'].to_list()"
   ]
  },
  {
   "cell_type": "code",
   "execution_count": null,
   "metadata": {},
   "outputs": [],
   "source": [
    "await main(symbols)"
   ]
  }
 ],
 "metadata": {
  "kernelspec": {
   "display_name": "bpc_trading",
   "language": "python",
   "name": "python3"
  },
  "language_info": {
   "codemirror_mode": {
    "name": "ipython",
    "version": 3
   },
   "file_extension": ".py",
   "mimetype": "text/x-python",
   "name": "python",
   "nbconvert_exporter": "python",
   "pygments_lexer": "ipython3",
   "version": "3.10.15"
  }
 },
 "nbformat": 4,
 "nbformat_minor": 2
}
